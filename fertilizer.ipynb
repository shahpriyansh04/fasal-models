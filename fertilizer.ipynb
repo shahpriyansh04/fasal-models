{
 "cells": [
  {
   "cell_type": "code",
   "execution_count": 2,
   "metadata": {},
   "outputs": [
    {
     "name": "stdout",
     "output_type": "stream",
     "text": [
      "Accuracy: 1.0000\n",
      "\n",
      "Classification Report:\n",
      "                               precision    recall  f1-score   support\n",
      "\n",
      "                          DAP       1.00      1.00      1.00        34\n",
      "Fourteen-Thirty Five-Fourteen       1.00      1.00      1.00        34\n",
      "Seventeen-Seventeen-Seventeen       1.00      1.00      1.00        11\n",
      "    Ten-Twenty Six-Twenty Six       1.00      1.00      1.00        13\n",
      "    Twenty Eight-Twenty Eight       1.00      1.00      1.00        42\n",
      "                Twenty-Twenty       1.00      1.00      1.00        18\n",
      "                         Urea       1.00      1.00      1.00        48\n",
      "\n",
      "                     accuracy                           1.00       200\n",
      "                    macro avg       1.00      1.00      1.00       200\n",
      "                 weighted avg       1.00      1.00      1.00       200\n",
      "\n",
      "\n",
      "Example prediction:\n",
      "Predicted fertilizer: Urea\n",
      "\n",
      "Feature Importance:\n",
      "       feature  importance\n",
      "1  Phosphorous    0.454389\n",
      "0     Nitrogen    0.338609\n",
      "2    Potassium    0.207003\n"
     ]
    },
    {
     "name": "stderr",
     "output_type": "stream",
     "text": [
      "c:\\Users\\shahp\\OneDrive\\Desktop\\New folder\\ipd\\.venv\\Lib\\site-packages\\sklearn\\base.py:493: UserWarning: X does not have valid feature names, but StandardScaler was fitted with feature names\n",
      "  warnings.warn(\n"
     ]
    }
   ],
   "source": [
    "import pandas as pd\n",
    "import numpy as np\n",
    "from sklearn.model_selection import train_test_split\n",
    "from sklearn.preprocessing import StandardScaler, LabelEncoder\n",
    "from sklearn.ensemble import RandomForestClassifier\n",
    "from sklearn.metrics import accuracy_score, classification_report\n",
    "import joblib\n",
    "\n",
    "data = pd.read_csv('fertilizer_augmented.csv') \n",
    "\n",
    "X = data[['Nitrogen', 'Phosphorous', 'Potassium']]\n",
    "y = data['Fertilizer Name']\n",
    "\n",
    "le = LabelEncoder()\n",
    "y_encoded = le.fit_transform(y)\n",
    "\n",
    "X_train, X_test, y_train, y_test = train_test_split(X, y_encoded, test_size=0.2, random_state=42)\n",
    "\n",
    "scaler = StandardScaler()\n",
    "X_train_scaled = scaler.fit_transform(X_train)\n",
    "X_test_scaled = scaler.transform(X_test)\n",
    "\n",
    "model = RandomForestClassifier(n_estimators=100, max_depth=10, random_state=42)\n",
    "model.fit(X_train_scaled, y_train)\n",
    "\n",
    "y_pred = model.predict(X_test_scaled)\n",
    "\n",
    "accuracy = accuracy_score(y_test, y_pred)\n",
    "print(f'Accuracy: {accuracy:.4f}')\n",
    "print('\\nClassification Report:')\n",
    "print(classification_report(y_test, y_pred, target_names=le.classes_))\n",
    "\n",
    "def predict_fertilizer(Nitrogen, Phosphorous, Potassium):\n",
    "    input_data = np.array([[Nitrogen, Phosphorous, Potassium]])\n",
    "    input_data_scaled = scaler.transform(input_data)\n",
    "    prediction = model.predict(input_data_scaled)\n",
    "    return le.inverse_transform(prediction)[0]\n",
    "\n",
    "joblib.dump(model, 'random_forest_npk_fertilizer_model.pkl')\n",
    "joblib.dump(scaler, 'npk_fertilizer_scaler.pkl')\n",
    "joblib.dump(le, 'npk_fertilizer_label_encoder.pkl')\n",
    "\n",
    "print(\"\\nExample prediction:\")\n",
    "predicted_fertilizer = predict_fertilizer(50, 30, 20)\n",
    "print(f\"Predicted fertilizer: {predicted_fertilizer}\")\n",
    "\n",
    "feature_importance = pd.DataFrame({\n",
    "    'feature': X.columns,\n",
    "    'importance': model.feature_importances_\n",
    "}).sort_values('importance', ascending=False)\n",
    "\n",
    "print(\"\\nFeature Importance:\")\n",
    "print(feature_importance)\n"
   ]
  }
 ],
 "metadata": {
  "kernelspec": {
   "display_name": ".venv",
   "language": "python",
   "name": "python3"
  },
  "language_info": {
   "codemirror_mode": {
    "name": "ipython",
    "version": 3
   },
   "file_extension": ".py",
   "mimetype": "text/x-python",
   "name": "python",
   "nbconvert_exporter": "python",
   "pygments_lexer": "ipython3",
   "version": "3.12.1"
  }
 },
 "nbformat": 4,
 "nbformat_minor": 2
}
