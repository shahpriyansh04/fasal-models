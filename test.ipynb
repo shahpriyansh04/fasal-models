{
 "cells": [
  {
   "cell_type": "code",
   "execution_count": 10,
   "metadata": {},
   "outputs": [
    {
     "name": "stdout",
     "output_type": "stream",
     "text": [
      "rice\n"
     ]
    },
    {
     "name": "stderr",
     "output_type": "stream",
     "text": [
      "c:\\Users\\shahp\\OneDrive\\Desktop\\New folder\\ipd\\.venv\\Lib\\site-packages\\sklearn\\base.py:493: UserWarning: X does not have valid feature names, but StandardScaler was fitted with feature names\n",
      "  warnings.warn(\n"
     ]
    }
   ],
   "source": [
    "import joblib\n",
    "\n",
    "model = joblib.load('rf.pkl')\n",
    "scaler = joblib.load('scaler.pkl')\n",
    "def predict(N,P,K,temperature, humidity, ph, rainfall):\n",
    "    x = [[N,P,K,temperature, humidity, ph, rainfall]]\n",
    "    x = scaler.transform(x)\n",
    "    return model.predict(x)[0]\n",
    "\n",
    "print(predict(90, 42, 43, 20.87974371, 82.00274423, 6.502985292, 202.9355362))\n",
    "    "
   ]
  },
  {
   "cell_type": "code",
   "execution_count": null,
   "metadata": {},
   "outputs": [],
   "source": []
  }
 ],
 "metadata": {
  "kernelspec": {
   "display_name": ".venv",
   "language": "python",
   "name": "python3"
  },
  "language_info": {
   "codemirror_mode": {
    "name": "ipython",
    "version": 3
   },
   "file_extension": ".py",
   "mimetype": "text/x-python",
   "name": "python",
   "nbconvert_exporter": "python",
   "pygments_lexer": "ipython3",
   "version": "3.12.1"
  }
 },
 "nbformat": 4,
 "nbformat_minor": 2
}
